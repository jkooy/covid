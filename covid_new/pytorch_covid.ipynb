{
 "cells": [
  {
   "cell_type": "code",
   "execution_count": 1,
   "metadata": {},
   "outputs": [],
   "source": [
    "from torchvision import transforms, utils\n",
    "from torch.utils.data import Dataset, DataLoader\n",
    "import matplotlib.pyplot as plt\n",
    "from PIL import Image\n",
    "import torchxrayvision as xrv"
   ]
  },
  {
   "cell_type": "code",
   "execution_count": 2,
   "metadata": {},
   "outputs": [],
   "source": [
    "def load_train_data():\n",
    "    train_data = xrv.datasets.COVID19_Dataset(imgpath=\"/covid_data\")\n",
    "    train_loader = torch.utils.data.DataLoader(train_data, batch_size = bs, num_workers = 0, shuffle=True)\n",
    "    return train_loader\n",
    "\n",
    "def load_test_data():\n",
    "    data = XRayDataset(test_path)\n",
    "    test_loader = torch.utils.data.DataLoader(data, batch_size = bs, num_workers = 0, shuffle=True)\n",
    "    return test_loader"
   ]
  },
  {
   "cell_type": "code",
   "execution_count": 4,
   "metadata": {},
   "outputs": [
    {
     "name": "stdout",
     "output_type": "stream",
     "text": [
      "{'ARDS': {0.0: 75, 1.0: 4},\n",
      " 'Bacterial Pneumonia': {0.0: 73, 1.0: 6},\n",
      " 'COVID-19': {0.0: 23, 1.0: 56},\n",
      " 'MERS': {0.0: 79},\n",
      " 'No Finding': {0.0: 78, 1.0: 1},\n",
      " 'Pneumonia': {0.0: 2, 1.0: 77},\n",
      " 'SARS': {0.0: 68, 1.0: 11},\n",
      " 'Streptococcus': {0.0: 73, 1.0: 6},\n",
      " 'Viral Pneumonia': {0.0: 12, 1.0: 67}}\n",
      "COVID19_Dataset num_samples=79\n"
     ]
    }
   ],
   "source": [
    "data = xrv.datasets.COVID19_Dataset(imgpath=\"/covid_data\")\n",
    "print(data)"
   ]
  },
  {
   "cell_type": "code",
   "execution_count": 5,
   "metadata": {},
   "outputs": [
    {
     "name": "stdout",
     "output_type": "stream",
     "text": [
      "<torch.utils.data.dataloader.DataLoader object at 0x7feca0b691d0>\n"
     ]
    }
   ],
   "source": [
    "data_loader = DataLoader(data, batch_size=100,shuffle=True)\n",
    "print(data_loader)"
   ]
  },
  {
   "cell_type": "code",
   "execution_count": null,
   "metadata": {},
   "outputs": [],
   "source": []
  }
 ],
 "metadata": {
  "kernelspec": {
   "display_name": "Python 3",
   "language": "python",
   "name": "python3"
  },
  "language_info": {
   "codemirror_mode": {
    "name": "ipython",
    "version": 3
   },
   "file_extension": ".py",
   "mimetype": "text/x-python",
   "name": "python",
   "nbconvert_exporter": "python",
   "pygments_lexer": "ipython3",
   "version": "3.7.3"
  }
 },
 "nbformat": 4,
 "nbformat_minor": 2
}
